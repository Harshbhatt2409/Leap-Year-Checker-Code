{
  "nbformat": 4,
  "nbformat_minor": 0,
  "metadata": {
    "colab": {
      "provenance": [],
      "authorship_tag": "ABX9TyP1PENl0MK4bgm2sXMno3Dt",
      "include_colab_link": true
    },
    "kernelspec": {
      "name": "python3",
      "display_name": "Python 3"
    },
    "language_info": {
      "name": "python"
    }
  },
  "cells": [
    {
      "cell_type": "markdown",
      "metadata": {
        "id": "view-in-github",
        "colab_type": "text"
      },
      "source": [
        "<a href=\"https://colab.research.google.com/github/Harshbhatt2409/Leap-Year-Checker-Code/blob/main/Untitled22.ipynb\" target=\"_parent\"><img src=\"https://colab.research.google.com/assets/colab-badge.svg\" alt=\"Open In Colab\"/></a>"
      ]
    },
    {
      "cell_type": "code",
      "execution_count": null,
      "metadata": {
        "colab": {
          "base_uri": "https://localhost:8080/"
        },
        "id": "sUrNZcgDxBUg",
        "outputId": "ca57982a-f213-4b24-f1ff-cb0320fe5ffa"
      },
      "outputs": [
        {
          "output_type": "stream",
          "name": "stdout",
          "text": [
            "Enter the number:1829\n",
            "Given Year is not a Leap Year\n"
          ]
        }
      ],
      "source": [
        "def CheckLeap(Year):\n",
        "    if((Year % 400 == 0)or (Year % 100!= 0) and (Year % 4 ==0)):\n",
        "        print(\"Given Year is a Leap Year\")\n",
        "    else:\n",
        "        print(\"Given Year is not a Leap Year\")\n",
        "Year = int(input(\"Enter the number:\"))\n",
        "CheckLeap(Year)"
      ]
    }
  ]
}